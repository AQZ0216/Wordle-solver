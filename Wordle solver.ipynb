{
 "cells": [
  {
   "cell_type": "code",
   "execution_count": 1,
   "id": "e21807a9",
   "metadata": {},
   "outputs": [
    {
     "name": "stdout",
     "output_type": "stream",
     "text": [
      "Example: ROATE 🟨⬛🟩⬛⬛\n",
      "         CRAZY ⬛🟨🟩⬛⬛\n",
      "The letters in the word and in the correct spot (Ex: ??a??): ??a??\n",
      "The letters is in the word but in the wrong spot (Ex: r1 r2): r1 r2\n",
      "The letters is not in the word in any spot (Ex: oteczy): oteczy\n",
      "\n",
      "dwarf\n",
      "shard\n",
      "flair\n",
      "snarl\n",
      "wharf\n",
      "award\n",
      "swarm\n",
      "quark\n",
      "sharp\n",
      "shark\n",
      "alarm\n",
      "spark\n",
      "guard\n",
      "# of possible solutions : 13\n"
     ]
    }
   ],
   "source": [
    "with open('wordlist_solutions.txt') as f:\n",
    "    lines = f.readlines()\n",
    "    \n",
    "print(\"Example: ROATE 🟨⬛🟩⬛⬛\\n         CRAZY ⬛🟨🟩⬛⬛\")\n",
    "A = input(\"The letters in the word and in the correct spot (Ex: ??a??): \")\n",
    "B = input(\"The letters is in the word but in the wrong spot (Ex: r1 r2): \")\n",
    "C = input(\"The letters is not in the word in any spot (Ex: oteczy): \")\n",
    "print(\"\")\n",
    "\n",
    "B_char = []\n",
    "B_pos = []\n",
    "for i in B:\n",
    "    if 'a' <= i <= 'z':\n",
    "        B_char.append(i)\n",
    "    elif '0' <= i <= '9':\n",
    "        B_pos.append(int(i))\n",
    "        \n",
    "num = 0\n",
    "for i in lines:\n",
    "    flag = 1                          ## 1: possible, -1: impossible\n",
    "    if A[0] != '?' and A[0] != i[0]:\n",
    "        continue\n",
    "    if A[1] != '?' and A[1] != i[1]:\n",
    "        continue\n",
    "    if A[2] != '?' and A[2] != i[2]:\n",
    "        continue\n",
    "    if A[3] != '?' and A[3] != i[3]:\n",
    "        continue\n",
    "    if A[4] != '?' and A[4] != i[4]:\n",
    "        continue\n",
    "        \n",
    "    for j in range(len(B_char)):\n",
    "        if B_char[j] not in i:\n",
    "            flag = -1\n",
    "            break\n",
    "        elif B_char[j] == i[B_pos[j]-1]:\n",
    "            flag = -1\n",
    "            break\n",
    "            \n",
    "    if flag == 1:\n",
    "        for j in C:\n",
    "            if j in i:\n",
    "                flag = -1\n",
    "                break\n",
    "                \n",
    "    if flag == 1:\n",
    "        print(i, end='')\n",
    "        num += 1\n",
    "        \n",
    "print(\"# of possible solutions :\", num)"
   ]
  },
  {
   "cell_type": "code",
   "execution_count": null,
   "id": "d306d0de",
   "metadata": {},
   "outputs": [],
   "source": []
  }
 ],
 "metadata": {
  "kernelspec": {
   "display_name": "Python 3 (ipykernel)",
   "language": "python",
   "name": "python3"
  },
  "language_info": {
   "codemirror_mode": {
    "name": "ipython",
    "version": 3
   },
   "file_extension": ".py",
   "mimetype": "text/x-python",
   "name": "python",
   "nbconvert_exporter": "python",
   "pygments_lexer": "ipython3",
   "version": "3.10.2"
  }
 },
 "nbformat": 4,
 "nbformat_minor": 5
}
