{
 "cells": [
  {
   "cell_type": "code",
   "execution_count": null,
   "id": "adad69a4",
   "metadata": {},
   "outputs": [],
   "source": [
    "import json\n",
    "\n",
    "with open('allowed_words.txt') as f:\n",
    "    allowed_words = f.read().splitlines()\n",
    "\n",
    "possible_result = {}\n",
    "\n",
    "for guess in allowed_words:\n",
    "    possible_result[guess] = {}\n",
    "    for answer in allowed_words:\n",
    "        result = ['B']*5\n",
    "        for i in range(5):\n",
    "            if answer[i] == guess[i]:\n",
    "                result[i] = 'G'\n",
    "            elif answer[i] in guess:\n",
    "                idx = guess.find(answer[i])\n",
    "                while result[idx] != 'B':\n",
    "                    idx = guess.find(answer[i], idx+1)\n",
    "                    if(idx == -1):\n",
    "                        break\n",
    "                if idx != -1:\n",
    "                    result[idx] = 'Y'\n",
    "        possible_result[guess][answer] = ''.join(result)\n",
    "    \n",
    "with open('possible_pattern.json', 'w') as f:\n",
    "    json.dump(possible_result, f)"
   ]
  },
  {
   "cell_type": "code",
   "execution_count": null,
   "id": "113a4ffc",
   "metadata": {},
   "outputs": [],
   "source": []
  }
 ],
 "metadata": {
  "kernelspec": {
   "display_name": "Python 3 (ipykernel)",
   "language": "python",
   "name": "python3"
  },
  "language_info": {
   "codemirror_mode": {
    "name": "ipython",
    "version": 3
   },
   "file_extension": ".py",
   "mimetype": "text/x-python",
   "name": "python",
   "nbconvert_exporter": "python",
   "pygments_lexer": "ipython3",
   "version": "3.10.4"
  }
 },
 "nbformat": 4,
 "nbformat_minor": 5
}
